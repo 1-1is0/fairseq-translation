{
 "cells": [
  {
   "cell_type": "code",
   "execution_count": 1,
   "metadata": {},
   "outputs": [
    {
     "name": "stdout",
     "output_type": "stream",
     "text": [
      "Collecting fairseq\n",
      "  Downloading fairseq-0.12.2.tar.gz (9.6 MB)\n",
      "\u001b[2K     \u001b[90m━━━━━━━━━━━━━━━━━━━━━━━━━━━━━━━━━━━━━━━━\u001b[0m \u001b[32m9.6/9.6 MB\u001b[0m \u001b[31m2.4 MB/s\u001b[0m eta \u001b[36m0:00:00\u001b[0m00:01\u001b[0m00:01\u001b[0m0m\n",
      "\u001b[?25h  Installing build dependencies ... \u001b[?25ldone\n",
      "\u001b[?25h  Getting requirements to build wheel ... \u001b[?25ldone\n",
      "\u001b[?25h  Installing backend dependencies ... \u001b[?25ldone\n",
      "\u001b[?25h  Preparing metadata (pyproject.toml) ... \u001b[?25ldone\n",
      "\u001b[?25hRequirement already satisfied: cffi in /home/amir/.pyenv/versions/uni/lib/python3.11/site-packages (from fairseq) (1.15.1)\n",
      "Requirement already satisfied: cython in /home/amir/.pyenv/versions/uni/lib/python3.11/site-packages (from fairseq) (0.29.34)\n",
      "Collecting hydra-core<1.1,>=1.0.7 (from fairseq)\n",
      "  Downloading hydra_core-1.0.7-py3-none-any.whl (123 kB)\n",
      "\u001b[2K     \u001b[90m━━━━━━━━━━━━━━━━━━━━━━━━━━━━━━━━━━━━━━━\u001b[0m \u001b[32m123.8/123.8 kB\u001b[0m \u001b[31m1.6 MB/s\u001b[0m eta \u001b[36m0:00:00\u001b[0m00:01\u001b[0m00:01\u001b[0m\n",
      "\u001b[?25hCollecting omegaconf<2.1 (from fairseq)\n",
      "  Downloading omegaconf-2.0.6-py3-none-any.whl (36 kB)\n",
      "Requirement already satisfied: regex in /home/amir/.pyenv/versions/uni/lib/python3.11/site-packages (from fairseq) (2023.3.23)\n",
      "Collecting sacrebleu>=1.4.12 (from fairseq)\n",
      "  Downloading sacrebleu-2.3.1-py3-none-any.whl (118 kB)\n",
      "\u001b[2K     \u001b[90m━━━━━━━━━━━━━━━━━━━━━━━━━━━━━━━━━━━━━━━\u001b[0m \u001b[32m118.9/118.9 kB\u001b[0m \u001b[31m1.8 MB/s\u001b[0m eta \u001b[36m0:00:00\u001b[0ma \u001b[36m0:00:01\u001b[0m\n",
      "\u001b[?25hRequirement already satisfied: torch in /home/amir/.pyenv/versions/uni/lib/python3.11/site-packages (from fairseq) (2.0.0+cu118)\n",
      "Requirement already satisfied: tqdm in /home/amir/.pyenv/versions/uni/lib/python3.11/site-packages (from fairseq) (4.65.0)\n",
      "Collecting bitarray (from fairseq)\n",
      "  Downloading bitarray-2.7.4-cp311-cp311-manylinux_2_17_x86_64.manylinux2014_x86_64.whl (282 kB)\n",
      "\u001b[2K     \u001b[90m━━━━━━━━━━━━━━━━━━━━━━━━━━━━━━━━━━━━━━━\u001b[0m \u001b[32m282.8/282.8 kB\u001b[0m \u001b[31m4.1 MB/s\u001b[0m eta \u001b[36m0:00:00\u001b[0ma \u001b[36m0:00:01\u001b[0m\n",
      "\u001b[?25hRequirement already satisfied: torchaudio>=0.8.0 in /home/amir/.pyenv/versions/uni/lib/python3.11/site-packages (from fairseq) (2.0.1+cu118)\n",
      "Requirement already satisfied: numpy in /home/amir/.pyenv/versions/uni/lib/python3.11/site-packages (from fairseq) (1.24.3)\n",
      "Collecting antlr4-python3-runtime==4.8 (from hydra-core<1.1,>=1.0.7->fairseq)\n",
      "  Downloading antlr4-python3-runtime-4.8.tar.gz (112 kB)\n",
      "\u001b[2K     \u001b[90m━━━━━━━━━━━━━━━━━━━━━━━━━━━━━━━━━━━━━━━\u001b[0m \u001b[32m112.4/112.4 kB\u001b[0m \u001b[31m2.0 MB/s\u001b[0m eta \u001b[36m0:00:00\u001b[0ma \u001b[36m0:00:01\u001b[0m\n",
      "\u001b[?25h  Preparing metadata (setup.py) ... \u001b[?25ldone\n",
      "\u001b[?25hRequirement already satisfied: PyYAML>=5.1.* in /home/amir/.pyenv/versions/uni/lib/python3.11/site-packages (from omegaconf<2.1->fairseq) (6.0)\n",
      "Requirement already satisfied: typing-extensions in /home/amir/.pyenv/versions/uni/lib/python3.11/site-packages (from omegaconf<2.1->fairseq) (4.5.0)\n",
      "Collecting portalocker (from sacrebleu>=1.4.12->fairseq)\n",
      "  Downloading portalocker-2.7.0-py2.py3-none-any.whl (15 kB)\n",
      "Requirement already satisfied: tabulate>=0.8.9 in /home/amir/.pyenv/versions/uni/lib/python3.11/site-packages (from sacrebleu>=1.4.12->fairseq) (0.9.0)\n",
      "Collecting colorama (from sacrebleu>=1.4.12->fairseq)\n",
      "  Using cached colorama-0.4.6-py2.py3-none-any.whl (25 kB)\n",
      "Collecting lxml (from sacrebleu>=1.4.12->fairseq)\n",
      "  Using cached lxml-4.9.2-cp311-cp311-manylinux_2_17_x86_64.manylinux2014_x86_64.manylinux_2_24_x86_64.whl (7.2 MB)\n",
      "Requirement already satisfied: filelock in /home/amir/.pyenv/versions/uni/lib/python3.11/site-packages (from torch->fairseq) (3.11.0)\n",
      "Requirement already satisfied: sympy in /home/amir/.pyenv/versions/uni/lib/python3.11/site-packages (from torch->fairseq) (1.11.1)\n",
      "Requirement already satisfied: networkx in /home/amir/.pyenv/versions/uni/lib/python3.11/site-packages (from torch->fairseq) (3.1)\n",
      "Requirement already satisfied: jinja2 in /home/amir/.pyenv/versions/uni/lib/python3.11/site-packages (from torch->fairseq) (3.1.2)\n",
      "Requirement already satisfied: triton==2.0.0 in /home/amir/.pyenv/versions/uni/lib/python3.11/site-packages (from torch->fairseq) (2.0.0)\n",
      "Requirement already satisfied: cmake in /home/amir/.pyenv/versions/uni/lib/python3.11/site-packages (from triton==2.0.0->torch->fairseq) (3.26.3)\n",
      "Requirement already satisfied: lit in /home/amir/.pyenv/versions/uni/lib/python3.11/site-packages (from triton==2.0.0->torch->fairseq) (16.0.1)\n",
      "Requirement already satisfied: pycparser in /home/amir/.pyenv/versions/uni/lib/python3.11/site-packages (from cffi->fairseq) (2.21)\n",
      "Requirement already satisfied: MarkupSafe>=2.0 in /home/amir/.pyenv/versions/uni/lib/python3.11/site-packages (from jinja2->torch->fairseq) (2.1.2)\n",
      "Requirement already satisfied: mpmath>=0.19 in /home/amir/.pyenv/versions/uni/lib/python3.11/site-packages (from sympy->torch->fairseq) (1.3.0)\n",
      "Building wheels for collected packages: fairseq, antlr4-python3-runtime\n",
      "  Building wheel for fairseq (pyproject.toml) ... \u001b[?25ldone\n",
      "\u001b[?25h  Created wheel for fairseq: filename=fairseq-0.12.2-cp311-cp311-linux_x86_64.whl size=11202958 sha256=89d38a4973f663bc36d10ef87e909f3b32d18ec9f683491ea4eaf950494bd82e\n",
      "  Stored in directory: /home/amir/.cache/pip/wheels/f1/0d/ed/f4ca5b65eef7dda06cb421355a049648c032c6322c455a396e\n",
      "  Building wheel for antlr4-python3-runtime (setup.py) ... \u001b[?25ldone\n",
      "\u001b[?25h  Created wheel for antlr4-python3-runtime: filename=antlr4_python3_runtime-4.8-py3-none-any.whl size=141210 sha256=8325594c99199e54702008c4cc5791329250d4a7f0d425500e816b98c04f000c\n",
      "  Stored in directory: /home/amir/.cache/pip/wheels/21/10/be/9a70640a3a60ed4a7e1a45e49bb9f58b04692d5d7b517bd39e\n",
      "Successfully built fairseq antlr4-python3-runtime\n",
      "Installing collected packages: bitarray, antlr4-python3-runtime, portalocker, omegaconf, lxml, colorama, sacrebleu, hydra-core, fairseq\n",
      "Successfully installed antlr4-python3-runtime-4.8 bitarray-2.7.4 colorama-0.4.6 fairseq-0.12.2 hydra-core-1.0.7 lxml-4.9.2 omegaconf-2.0.6 portalocker-2.7.0 sacrebleu-2.3.1\n",
      "Collecting sentencepiece\n",
      "  Downloading sentencepiece-0.1.99-cp311-cp311-manylinux_2_17_x86_64.manylinux2014_x86_64.whl (1.3 MB)\n",
      "\u001b[2K     \u001b[90m━━━━━━━━━━━━━━━━━━━━━━━━━━━━━━━━━━━━━━━━\u001b[0m \u001b[32m1.3/1.3 MB\u001b[0m \u001b[31m2.6 MB/s\u001b[0m eta \u001b[36m0:00:00\u001b[0ma \u001b[36m0:00:01\u001b[0m0m\n",
      "\u001b[?25hInstalling collected packages: sentencepiece\n",
      "Successfully installed sentencepiece-0.1.99\n",
      "Collecting sacremoses\n",
      "  Downloading sacremoses-0.0.53.tar.gz (880 kB)\n",
      "\u001b[2K     \u001b[90m━━━━━━━━━━━━━━━━━━━━━━━━━━━━━━━━━━━━━━━\u001b[0m \u001b[32m880.6/880.6 kB\u001b[0m \u001b[31m1.2 MB/s\u001b[0m eta \u001b[36m0:00:00\u001b[0ma \u001b[36m0:00:01\u001b[0m\n",
      "\u001b[?25h  Preparing metadata (setup.py) ... \u001b[?25ldone\n",
      "\u001b[?25hRequirement already satisfied: regex in /home/amir/.pyenv/versions/uni/lib/python3.11/site-packages (from sacremoses) (2023.3.23)\n",
      "Requirement already satisfied: six in /home/amir/.pyenv/versions/uni/lib/python3.11/site-packages (from sacremoses) (1.16.0)\n",
      "Requirement already satisfied: click in /home/amir/.pyenv/versions/uni/lib/python3.11/site-packages (from sacremoses) (8.1.3)\n",
      "Requirement already satisfied: joblib in /home/amir/.pyenv/versions/uni/lib/python3.11/site-packages (from sacremoses) (1.2.0)\n",
      "Requirement already satisfied: tqdm in /home/amir/.pyenv/versions/uni/lib/python3.11/site-packages (from sacremoses) (4.65.0)\n",
      "Building wheels for collected packages: sacremoses\n",
      "  Building wheel for sacremoses (setup.py) ... \u001b[?25ldone\n",
      "\u001b[?25h  Created wheel for sacremoses: filename=sacremoses-0.0.53-py3-none-any.whl size=895241 sha256=1847891edccd9ff1b6a4f635c1a047b4ed0d7d1de1fd675c982963eb08e75a8b\n",
      "  Stored in directory: /home/amir/.cache/pip/wheels/11/75/c6/a82d827a00df823caf211262900d2c024f5b3a775b82b45230\n",
      "Successfully built sacremoses\n",
      "Installing collected packages: sacremoses\n",
      "Successfully installed sacremoses-0.0.53\n"
     ]
    }
   ],
   "source": [
    "!pip install fairseq\n",
    "!pip install sentencepiece\n",
    "!pip install sacremoses"
   ]
  },
  {
   "cell_type": "code",
   "execution_count": 5,
   "metadata": {},
   "outputs": [
    {
     "name": "stdout",
     "output_type": "stream",
     "text": [
      "Traceback (most recent call last):\n",
      "  File \"/home/amir/.pyenv/versions/3.11.2/envs/uni/bin/fairseq-preprocess\", line 5, in <module>\n",
      "    from fairseq_cli.preprocess import cli_main\n",
      "  File \"/home/amir/.pyenv/versions/uni/lib/python3.11/site-packages/fairseq_cli/preprocess.py\", line 18, in <module>\n",
      "    from fairseq import options, tasks, utils\n",
      "  File \"/home/amir/.pyenv/versions/uni/lib/python3.11/site-packages/fairseq/__init__.py\", line 20, in <module>\n",
      "    from fairseq.distributed import utils as distributed_utils\n",
      "  File \"/home/amir/.pyenv/versions/uni/lib/python3.11/site-packages/fairseq/distributed/__init__.py\", line 7, in <module>\n",
      "    from .fully_sharded_data_parallel import (\n",
      "  File \"/home/amir/.pyenv/versions/uni/lib/python3.11/site-packages/fairseq/distributed/fully_sharded_data_parallel.py\", line 10, in <module>\n",
      "    from fairseq.dataclass.configs import DistributedTrainingConfig\n",
      "  File \"/home/amir/.pyenv/versions/uni/lib/python3.11/site-packages/fairseq/dataclass/__init__.py\", line 6, in <module>\n",
      "    from .configs import FairseqDataclass\n",
      "  File \"/home/amir/.pyenv/versions/uni/lib/python3.11/site-packages/fairseq/dataclass/configs.py\", line 1104, in <module>\n",
      "    @dataclass\n",
      "     ^^^^^^^^^\n",
      "  File \"/home/amir/.pyenv/versions/3.11.2/lib/python3.11/dataclasses.py\", line 1220, in dataclass\n",
      "    return wrap(cls)\n",
      "           ^^^^^^^^^\n",
      "  File \"/home/amir/.pyenv/versions/3.11.2/lib/python3.11/dataclasses.py\", line 1210, in wrap\n",
      "    return _process_class(cls, init, repr, eq, order, unsafe_hash,\n",
      "           ^^^^^^^^^^^^^^^^^^^^^^^^^^^^^^^^^^^^^^^^^^^^^^^^^^^^^^^\n",
      "  File \"/home/amir/.pyenv/versions/3.11.2/lib/python3.11/dataclasses.py\", line 958, in _process_class\n",
      "    cls_fields.append(_get_field(cls, name, type, kw_only))\n",
      "                      ^^^^^^^^^^^^^^^^^^^^^^^^^^^^^^^^^^^^\n",
      "  File \"/home/amir/.pyenv/versions/3.11.2/lib/python3.11/dataclasses.py\", line 815, in _get_field\n",
      "    raise ValueError(f'mutable default {type(f.default)} for field '\n",
      "ValueError: mutable default <class 'fairseq.dataclass.configs.CommonConfig'> for field common is not allowed: use default_factory\n"
     ]
    }
   ],
   "source": [
    "\n",
    "!mkdir -p ./data/data_bin\n",
    "\n",
    "!fairseq-preprocess --source-lang en --target-lang fa \\\n",
    "  --trainpref ./data/tokenized_data/train \\\n",
    "  --validpref ./data/tokenized_data/valid \\\n",
    "  --testpref ./data/tokenized_data/test \\\n",
    "  --nwordstgt 40000 \\\n",
    "  --nwordssrc 40000 \\\n",
    "  --destdir ./data/data_bin/"
   ]
  },
  {
   "cell_type": "code",
   "execution_count": null,
   "metadata": {},
   "outputs": [],
   "source": []
  },
  {
   "cell_type": "code",
   "execution_count": null,
   "metadata": {},
   "outputs": [],
   "source": []
  },
  {
   "cell_type": "code",
   "execution_count": null,
   "metadata": {},
   "outputs": [],
   "source": []
  },
  {
   "cell_type": "code",
   "execution_count": 1,
   "metadata": {},
   "outputs": [],
   "source": [
    "%load_ext tensorboard"
   ]
  },
  {
   "cell_type": "code",
   "execution_count": 2,
   "metadata": {},
   "outputs": [
    {
     "data": {
      "text/html": [
       "\n",
       "      <iframe id=\"tensorboard-frame-10e7a94ac86be50b\" width=\"100%\" height=\"800\" frameborder=\"0\">\n",
       "      </iframe>\n",
       "      <script>\n",
       "        (function() {\n",
       "          const frame = document.getElementById(\"tensorboard-frame-10e7a94ac86be50b\");\n",
       "          const url = new URL(\"/\", window.location);\n",
       "          const port = 6008;\n",
       "          if (port) {\n",
       "            url.port = port;\n",
       "          }\n",
       "          frame.src = url;\n",
       "        })();\n",
       "      </script>\n",
       "    "
      ],
      "text/plain": [
       "<IPython.core.display.HTML object>"
      ]
     },
     "metadata": {},
     "output_type": "display_data"
    }
   ],
   "source": [
    "%tensorboard --logdir \"./data/data_bin/logs\" --port=6008"
   ]
  },
  {
   "cell_type": "code",
   "execution_count": null,
   "metadata": {},
   "outputs": [],
   "source": []
  }
 ],
 "metadata": {
  "kernelspec": {
   "display_name": "uni",
   "language": "python",
   "name": "python3"
  },
  "language_info": {
   "codemirror_mode": {
    "name": "ipython",
    "version": 3
   },
   "file_extension": ".py",
   "mimetype": "text/x-python",
   "name": "python",
   "nbconvert_exporter": "python",
   "pygments_lexer": "ipython3",
   "version": "3.11.2"
  },
  "orig_nbformat": 4
 },
 "nbformat": 4,
 "nbformat_minor": 2
}
