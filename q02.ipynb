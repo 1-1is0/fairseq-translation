{
 "cells": [
  {
   "cell_type": "code",
   "execution_count": 3,
   "metadata": {},
   "outputs": [
    {
     "name": "stdout",
     "output_type": "stream",
     "text": [
      "cuda:0\n"
     ]
    }
   ],
   "source": [
    "import os\n",
    "import torch\n",
    "import numpy as np\n",
    "import pandas as pd\n",
    "from tqdm import tqdm\n",
    "from transformers import BertConfig, BertTokenizer, BertModel\n",
    "\n",
    "device = torch.device(\"cuda:0\" if torch.cuda.is_available() else \"cpu\")\n",
    "print(device)"
   ]
  },
  {
   "cell_type": "code",
   "execution_count": 4,
   "metadata": {},
   "outputs": [
    {
     "name": "stderr",
     "output_type": "stream",
     "text": [
      "Some weights of the model checkpoint at bert-base-multilingual-cased were not used when initializing BertModel: ['cls.predictions.transform.LayerNorm.weight', 'cls.predictions.transform.dense.weight', 'cls.predictions.transform.LayerNorm.bias', 'cls.predictions.transform.dense.bias', 'cls.predictions.bias', 'cls.seq_relationship.bias', 'cls.seq_relationship.weight', 'cls.predictions.decoder.weight']\n",
      "- This IS expected if you are initializing BertModel from the checkpoint of a model trained on another task or with another architecture (e.g. initializing a BertForSequenceClassification model from a BertForPreTraining model).\n",
      "- This IS NOT expected if you are initializing BertModel from the checkpoint of a model that you expect to be exactly identical (initializing a BertForSequenceClassification model from a BertForSequenceClassification model).\n"
     ]
    }
   ],
   "source": [
    "config = BertConfig.from_pretrained(\"bert-base-multilingual-cased\")\n",
    "model = BertModel.from_pretrained(\"bert-base-multilingual-cased\")\n",
    "tokenizer = BertTokenizer.from_pretrained(\"bert-base-multilingual-cased\", device=device)\n",
    "weights = model.get_input_embeddings().weight.detach().numpy()\n",
    "vocab = tokenizer.get_vocab()"
   ]
  },
  {
   "cell_type": "code",
   "execution_count": 14,
   "metadata": {},
   "outputs": [
    {
     "name": "stdout",
     "output_type": "stream",
     "text": [
      "Process valid.fa\n",
      "Process test.fa\n",
      "Process valid.en\n",
      "Process train.en\n",
      "Process test.en\n",
      "Process train.fa\n"
     ]
    }
   ],
   "source": [
    "import pickle\n",
    "base_data_dir = \"./data/tokenized_data\"\n",
    "for data_file in os.listdir(base_data_dir):\n",
    "# for data_file in ['test.en', 'test.fa']:\n",
    "    print(\"Process\", data_file)\n",
    "    with open(os.path.join(base_data_dir, data_file), 'r') as file:\n",
    "        data = file.read().splitlines()\n",
    "        tokenized_input = tokenizer.batch_encode_plus(data, add_special_tokens=True, max_length=16, padding='max_length', truncation=True)\n",
    "    lines = \"\"\n",
    "    for ids in tokenized_input['input_ids']:\n",
    "        tokens = tokenizer.convert_ids_to_tokens(ids)\n",
    "        lines += \" \".join(tokens)\n",
    "        lines += \"\\n\"\n",
    "    with open(os.path.join(\"data/encoded_data/\", data_file), 'w') as f:\n",
    "        f.write(lines)"
   ]
  },
  {
   "cell_type": "code",
   "execution_count": 5,
   "metadata": {},
   "outputs": [],
   "source": [
    "word_embeddings = []\n",
    "with open(os.path.join(\"./data/bert_weights.txt\"), 'w') as f:\n",
    "    for word, index in vocab.items():\n",
    "        embedding = weights[index]\n",
    "        line = word  + \" \" + \" \".join(map(str, embedding.tolist()[:512]))\n",
    "        f.write(f\"{line}\\n\")"
   ]
  },
  {
   "cell_type": "code",
   "execution_count": 12,
   "metadata": {},
   "outputs": [],
   "source": [
    "import torch\n",
    "import torch.nn as nn\n",
    "from fairseq import utils\n",
    "from fairseq.models import FairseqEncoder\n",
    "from fairseq.models import FairseqDecoder\n",
    "from fairseq.models import FairseqEncoderDecoderModel, register_model\n",
    "from fairseq.models.lstm import LSTMModel"
   ]
  },
  {
   "cell_type": "code",
   "execution_count": 13,
   "metadata": {},
   "outputs": [
    {
     "ename": "ValueError",
     "evalue": "Cannot register duplicate model (simple_lstm)",
     "output_type": "error",
     "traceback": [
      "\u001b[0;31m---------------------------------------------------------------------------\u001b[0m",
      "\u001b[0;31mValueError\u001b[0m                                Traceback (most recent call last)",
      "\u001b[0;32m/tmp/ipykernel_1055448/618765066.py\u001b[0m in \u001b[0;36m<module>\u001b[0;34m\u001b[0m\n\u001b[1;32m      1\u001b[0m \u001b[0;34m@\u001b[0m\u001b[0mregister_model\u001b[0m\u001b[0;34m(\u001b[0m\u001b[0;34m'simple_lstm'\u001b[0m\u001b[0;34m)\u001b[0m\u001b[0;34m\u001b[0m\u001b[0;34m\u001b[0m\u001b[0m\n\u001b[0;32m----> 2\u001b[0;31m \u001b[0;32mclass\u001b[0m \u001b[0mSimpleLSTMModel\u001b[0m\u001b[0;34m(\u001b[0m\u001b[0mLSTMModel\u001b[0m\u001b[0;34m)\u001b[0m\u001b[0;34m:\u001b[0m\u001b[0;34m\u001b[0m\u001b[0;34m\u001b[0m\u001b[0m\n\u001b[0m\u001b[1;32m      3\u001b[0m     \u001b[0;34m@\u001b[0m\u001b[0mstaticmethod\u001b[0m\u001b[0;34m\u001b[0m\u001b[0;34m\u001b[0m\u001b[0m\n\u001b[1;32m      4\u001b[0m     \u001b[0;32mdef\u001b[0m \u001b[0madd_args\u001b[0m\u001b[0;34m(\u001b[0m\u001b[0mparser\u001b[0m\u001b[0;34m)\u001b[0m\u001b[0;34m:\u001b[0m\u001b[0;34m\u001b[0m\u001b[0;34m\u001b[0m\u001b[0m\n\u001b[1;32m      5\u001b[0m         \u001b[0msuper\u001b[0m\u001b[0;34m(\u001b[0m\u001b[0;34m)\u001b[0m\u001b[0;34m.\u001b[0m\u001b[0madd_args\u001b[0m\u001b[0;34m(\u001b[0m\u001b[0mparser\u001b[0m\u001b[0;34m)\u001b[0m\u001b[0;34m\u001b[0m\u001b[0;34m\u001b[0m\u001b[0m\n",
      "\u001b[0;32m~/.pyenv/versions/3.8.16/lib/python3.8/site-packages/fairseq/models/__init__.py\u001b[0m in \u001b[0;36mregister_model_cls\u001b[0;34m(cls)\u001b[0m\n\u001b[1;32m    129\u001b[0m     \u001b[0;32mdef\u001b[0m \u001b[0mregister_model_cls\u001b[0m\u001b[0;34m(\u001b[0m\u001b[0mcls\u001b[0m\u001b[0;34m)\u001b[0m\u001b[0;34m:\u001b[0m\u001b[0;34m\u001b[0m\u001b[0;34m\u001b[0m\u001b[0m\n\u001b[1;32m    130\u001b[0m         \u001b[0;32mif\u001b[0m \u001b[0mname\u001b[0m \u001b[0;32min\u001b[0m \u001b[0mMODEL_REGISTRY\u001b[0m\u001b[0;34m:\u001b[0m\u001b[0;34m\u001b[0m\u001b[0;34m\u001b[0m\u001b[0m\n\u001b[0;32m--> 131\u001b[0;31m             \u001b[0;32mraise\u001b[0m \u001b[0mValueError\u001b[0m\u001b[0;34m(\u001b[0m\u001b[0;34m\"Cannot register duplicate model ({})\"\u001b[0m\u001b[0;34m.\u001b[0m\u001b[0mformat\u001b[0m\u001b[0;34m(\u001b[0m\u001b[0mname\u001b[0m\u001b[0;34m)\u001b[0m\u001b[0;34m)\u001b[0m\u001b[0;34m\u001b[0m\u001b[0;34m\u001b[0m\u001b[0m\n\u001b[0m\u001b[1;32m    132\u001b[0m         \u001b[0;32mif\u001b[0m \u001b[0;32mnot\u001b[0m \u001b[0missubclass\u001b[0m\u001b[0;34m(\u001b[0m\u001b[0mcls\u001b[0m\u001b[0;34m,\u001b[0m \u001b[0mBaseFairseqModel\u001b[0m\u001b[0;34m)\u001b[0m\u001b[0;34m:\u001b[0m\u001b[0;34m\u001b[0m\u001b[0;34m\u001b[0m\u001b[0m\n\u001b[1;32m    133\u001b[0m             raise ValueError(\n",
      "\u001b[0;31mValueError\u001b[0m: Cannot register duplicate model (simple_lstm)"
     ]
    }
   ],
   "source": [
    "@register_model('simple_lstm')\n",
    "class SimpleLSTMModel(LSTMModel):\n",
    "    @staticmethod\n",
    "    def add_args(parser):\n",
    "        super().add_args(parser)\n",
    "        parser.add_argument('--freeze', type=bool, default=True,\n",
    "                            help='freeze layers')\n",
    "\n",
    "    @classmethod\n",
    "    def build_model(cls, args, task):\n",
    "        model = super().build_model(cls, args, task)\n",
    "        if args.freeze:\n",
    "            for p in model.encoder.parameters():\n",
    "                p.requires_grad = False\n",
    "\n",
    "            for p in model.decoder.parameters():\n",
    "                p.requires_grad = False\n"
   ]
  },
  {
   "cell_type": "code",
   "execution_count": 14,
   "metadata": {},
   "outputs": [
    {
     "ename": "ValueError",
     "evalue": "Cannot register duplicate model architecture (tutorial_simple_lstm)",
     "output_type": "error",
     "traceback": [
      "\u001b[0;31m---------------------------------------------------------------------------\u001b[0m",
      "\u001b[0;31mValueError\u001b[0m                                Traceback (most recent call last)",
      "\u001b[0;32m/tmp/ipykernel_1055448/3183904610.py\u001b[0m in \u001b[0;36m<module>\u001b[0;34m\u001b[0m\n\u001b[1;32m      2\u001b[0m \u001b[0;34m\u001b[0m\u001b[0m\n\u001b[1;32m      3\u001b[0m \u001b[0;34m@\u001b[0m\u001b[0mregister_model_architecture\u001b[0m\u001b[0;34m(\u001b[0m\u001b[0;34m'simple_lstm'\u001b[0m\u001b[0;34m,\u001b[0m \u001b[0;34m'tutorial_simple_lstm'\u001b[0m\u001b[0;34m)\u001b[0m\u001b[0;34m\u001b[0m\u001b[0;34m\u001b[0m\u001b[0m\n\u001b[0;32m----> 4\u001b[0;31m \u001b[0;32mdef\u001b[0m \u001b[0mtutorial_simple_lstm\u001b[0m\u001b[0;34m(\u001b[0m\u001b[0margs\u001b[0m\u001b[0;34m)\u001b[0m\u001b[0;34m:\u001b[0m\u001b[0;34m\u001b[0m\u001b[0;34m\u001b[0m\u001b[0m\n\u001b[0m\u001b[1;32m      5\u001b[0m     \u001b[0margs\u001b[0m\u001b[0;34m.\u001b[0m\u001b[0mfreeze_layers\u001b[0m \u001b[0;34m=\u001b[0m \u001b[0mgetattr\u001b[0m\u001b[0;34m(\u001b[0m\u001b[0margs\u001b[0m\u001b[0;34m,\u001b[0m \u001b[0;34m\"freeze_layers\"\u001b[0m\u001b[0;34m,\u001b[0m \u001b[0;32mFalse\u001b[0m\u001b[0;34m)\u001b[0m\u001b[0;34m\u001b[0m\u001b[0;34m\u001b[0m\u001b[0m\n",
      "\u001b[0;32m~/.pyenv/versions/3.8.16/lib/python3.8/site-packages/fairseq/models/__init__.py\u001b[0m in \u001b[0;36mregister_model_arch_fn\u001b[0;34m(fn)\u001b[0m\n\u001b[1;32m    190\u001b[0m             )\n\u001b[1;32m    191\u001b[0m         \u001b[0;32mif\u001b[0m \u001b[0march_name\u001b[0m \u001b[0;32min\u001b[0m \u001b[0mARCH_MODEL_REGISTRY\u001b[0m\u001b[0;34m:\u001b[0m\u001b[0;34m\u001b[0m\u001b[0;34m\u001b[0m\u001b[0m\n\u001b[0;32m--> 192\u001b[0;31m             raise ValueError(\n\u001b[0m\u001b[1;32m    193\u001b[0m                 \u001b[0;34m\"Cannot register duplicate model architecture ({})\"\u001b[0m\u001b[0;34m.\u001b[0m\u001b[0mformat\u001b[0m\u001b[0;34m(\u001b[0m\u001b[0march_name\u001b[0m\u001b[0;34m)\u001b[0m\u001b[0;34m\u001b[0m\u001b[0;34m\u001b[0m\u001b[0m\n\u001b[1;32m    194\u001b[0m             )\n",
      "\u001b[0;31mValueError\u001b[0m: Cannot register duplicate model architecture (tutorial_simple_lstm)"
     ]
    }
   ],
   "source": [
    "from fairseq.models import register_model_architecture\n",
    "\n",
    "@register_model_architecture('simple_lstm', 'tutorial_simple_lstm')\n",
    "def tutorial_simple_lstm(args):\n",
    "    args.freeze_layers = getattr(args, \"freeze_layers\", False)"
   ]
  },
  {
   "cell_type": "code",
   "execution_count": 2,
   "metadata": {},
   "outputs": [
    {
     "name": "stdout",
     "output_type": "stream",
     "text": [
      "2023-06-02 00:11:00 | INFO | fairseq_cli.train | {'_name': None, 'common': {'_name': None, 'no_progress_bar': False, 'log_interval': 100, 'log_format': None, 'log_file': None, 'aim_repo': None, 'aim_run_hash': None, 'tensorboard_logdir': './data/data_bin_bert/logs', 'wandb_project': None, 'azureml_logging': False, 'seed': 1, 'cpu': False, 'tpu': False, 'bf16': False, 'memory_efficient_bf16': False, 'fp16': True, 'memory_efficient_fp16': True, 'fp16_no_flatten_grads': False, 'fp16_init_scale': 128, 'fp16_scale_window': None, 'fp16_scale_tolerance': 0.0, 'on_cpu_convert_precision': False, 'min_loss_scale': 0.0001, 'threshold_loss_scale': None, 'amp': False, 'amp_batch_retries': 2, 'amp_init_scale': 128, 'amp_scale_window': None, 'user_dir': None, 'empty_cache_freq': 0, 'all_gather_list_size': 16384, 'model_parallel_size': 1, 'quantization_config_path': None, 'profile': False, 'reset_logging': False, 'suppress_crashes': False, 'use_plasma_view': False, 'plasma_path': '/tmp/plasma'}, 'common_eval': {'_name': None, 'path': None, 'post_process': None, 'quiet': False, 'model_overrides': '{}', 'results_path': None}, 'distributed_training': {'_name': None, 'distributed_world_size': 1, 'distributed_num_procs': 1, 'distributed_rank': 0, 'distributed_backend': 'nccl', 'distributed_init_method': None, 'distributed_port': -1, 'device_id': 0, 'distributed_no_spawn': False, 'ddp_backend': 'pytorch_ddp', 'ddp_comm_hook': 'none', 'bucket_cap_mb': 25, 'fix_batches_to_gpus': False, 'find_unused_parameters': False, 'gradient_as_bucket_view': False, 'fast_stat_sync': False, 'heartbeat_timeout': -1, 'broadcast_buffers': False, 'slowmo_momentum': None, 'slowmo_base_algorithm': 'localsgd', 'localsgd_frequency': 3, 'nprocs_per_node': 1, 'pipeline_model_parallel': False, 'pipeline_balance': None, 'pipeline_devices': None, 'pipeline_chunks': 0, 'pipeline_encoder_balance': None, 'pipeline_encoder_devices': None, 'pipeline_decoder_balance': None, 'pipeline_decoder_devices': None, 'pipeline_checkpoint': 'never', 'zero_sharding': 'none', 'fp16': True, 'memory_efficient_fp16': True, 'tpu': False, 'no_reshard_after_forward': False, 'fp32_reduce_scatter': False, 'cpu_offload': False, 'use_sharded_state': False, 'not_fsdp_flatten_parameters': False}, 'dataset': {'_name': None, 'num_workers': 1, 'skip_invalid_size_inputs_valid_test': False, 'max_tokens': 4096, 'batch_size': None, 'required_batch_size_multiple': 8, 'required_seq_len_multiple': 1, 'dataset_impl': None, 'data_buffer_size': 10, 'train_subset': 'train', 'valid_subset': 'valid', 'combine_valid_subsets': None, 'ignore_unused_valid_subsets': False, 'validate_interval': 1, 'validate_interval_updates': 0, 'validate_after_updates': 0, 'fixed_validation_seed': None, 'disable_validation': False, 'max_tokens_valid': 4096, 'batch_size_valid': None, 'max_valid_steps': None, 'curriculum': 0, 'gen_subset': 'test', 'num_shards': 1, 'shard_id': 0, 'grouped_shuffling': False, 'update_epoch_batch_itr': False, 'update_ordered_indices_seed': False}, 'optimization': {'_name': None, 'max_epoch': 5, 'max_update': 0, 'stop_time_hours': 0.0, 'clip_norm': 0.0, 'sentence_avg': False, 'update_freq': [1], 'lr': [0.0025], 'stop_min_lr': -1.0, 'use_bmuf': False, 'skip_remainder_batch': False}, 'checkpoint': {'_name': None, 'save_dir': './data/data_bin_bert/checkpoints/', 'restore_file': 'checkpoint_last.pt', 'continue_once': None, 'finetune_from_model': None, 'reset_dataloader': False, 'reset_lr_scheduler': False, 'reset_meters': False, 'reset_optimizer': False, 'optimizer_overrides': '{}', 'save_interval': 1, 'save_interval_updates': 0, 'keep_interval_updates': -1, 'keep_interval_updates_pattern': -1, 'keep_last_epochs': -1, 'keep_best_checkpoints': -1, 'no_save': False, 'no_epoch_checkpoints': False, 'no_last_checkpoints': False, 'no_save_optimizer_state': False, 'best_checkpoint_metric': 'bleu', 'maximize_best_checkpoint_metric': True, 'patience': -1, 'checkpoint_suffix': '', 'checkpoint_shard_count': 1, 'load_checkpoint_on_all_dp_ranks': False, 'write_checkpoints_asynchronously': False, 'model_parallel_size': 1}, 'bmuf': {'_name': None, 'block_lr': 1.0, 'block_momentum': 0.875, 'global_sync_iter': 50, 'warmup_iterations': 500, 'use_nbm': False, 'average_sync': False, 'distributed_world_size': 1}, 'generation': {'_name': None, 'beam': 5, 'nbest': 1, 'max_len_a': 0.0, 'max_len_b': 200, 'min_len': 1, 'match_source_len': False, 'unnormalized': False, 'no_early_stop': False, 'no_beamable_mm': False, 'lenpen': 1.0, 'unkpen': 0.0, 'replace_unk': None, 'sacrebleu': False, 'score_reference': False, 'prefix_size': 0, 'no_repeat_ngram_size': 0, 'sampling': False, 'sampling_topk': -1, 'sampling_topp': -1.0, 'constraints': None, 'temperature': 1.0, 'diverse_beam_groups': -1, 'diverse_beam_strength': 0.5, 'diversity_rate': -1.0, 'print_alignment': None, 'print_step': False, 'lm_path': None, 'lm_weight': 0.0, 'iter_decode_eos_penalty': 0.0, 'iter_decode_max_iter': 10, 'iter_decode_force_max_iter': False, 'iter_decode_with_beam': 1, 'iter_decode_with_external_reranker': False, 'retain_iter_history': False, 'retain_dropout': False, 'retain_dropout_modules': None, 'decoding_format': None, 'no_seed_provided': False, 'eos_token': None}, 'eval_lm': {'_name': None, 'output_word_probs': False, 'output_word_stats': False, 'context_window': 0, 'softmax_batch': 9223372036854775807}, 'interactive': {'_name': None, 'buffer_size': 0, 'input': '-'}, 'model': Namespace(_name='lstm', adam_betas='(0.9, 0.98)', adam_eps=1e-08, adaptive_softmax_cutoff='10000,50000,200000', aim_repo=None, aim_run_hash=None, all_gather_list_size=16384, amp=False, amp_batch_retries=2, amp_init_scale=128, amp_scale_window=None, arch='lstm', azureml_logging=False, batch_size=None, batch_size_valid=None, best_checkpoint_metric='bleu', bf16=False, bpe=None, broadcast_buffers=False, bucket_cap_mb=25, checkpoint_shard_count=1, checkpoint_suffix='', clip_norm=0.0, combine_valid_subsets=None, continue_once=None, cpu=False, cpu_offload=False, criterion='label_smoothed_cross_entropy', curriculum=0, data='./data/data_bin_bert/', data_buffer_size=10, dataset_impl=None, ddp_backend='pytorch_ddp', ddp_comm_hook='none', decoder_attention='1', decoder_dropout_in=0.25, decoder_dropout_out=0.25, decoder_embed_dim=512, decoder_embed_path='./data/bert_weights.txt', decoder_freeze_embed=False, decoder_hidden_size=512, decoder_layers=1, decoder_out_embed_dim=512, device_id=0, disable_validation=False, distributed_backend='nccl', distributed_init_method=None, distributed_no_spawn=False, distributed_num_procs=1, distributed_port=-1, distributed_rank=0, distributed_world_size=1, dropout=0.25, ema_decay=0.9999, ema_fp32=False, ema_seed_model=None, ema_start_update=0, ema_update_freq=1, empty_cache_freq=0, encoder_bidirectional=False, encoder_dropout_in=0.25, encoder_dropout_out=0.25, encoder_embed_dim=512, encoder_embed_path='./data/bert_weights.txt', encoder_freeze_embed=False, encoder_hidden_size=512, encoder_layers=1, eos=2, eval_bleu=True, eval_bleu_args='{\"beam\": 5, \"max_len_a\": 1.2, \"max_len_b\": 10}', eval_bleu_detok='moses', eval_bleu_detok_args='{}', eval_bleu_print_samples=True, eval_bleu_remove_bpe=None, eval_tokenized_bleu=False, fast_stat_sync=False, find_unused_parameters=False, finetune_from_model=None, fix_batches_to_gpus=False, fixed_validation_seed=None, fp16=True, fp16_adam_stats=False, fp16_init_scale=128, fp16_no_flatten_grads=False, fp16_scale_tolerance=0.0, fp16_scale_window=None, fp32_reduce_scatter=False, freeze=True, freeze_layers=False, gen_subset='test', gradient_as_bucket_view=False, grouped_shuffling=False, heartbeat_timeout=-1, ignore_prefix_size=0, ignore_unused_valid_subsets=False, keep_best_checkpoints=-1, keep_interval_updates=-1, keep_interval_updates_pattern=-1, keep_last_epochs=-1, label_smoothing=0.2, left_pad_source=True, left_pad_target=False, load_alignments=False, load_checkpoint_on_all_dp_ranks=False, localsgd_frequency=3, log_file=None, log_format=None, log_interval=100, lr=[0.0025], lr_scheduler='inverse_sqrt', max_epoch=5, max_source_positions=1024, max_target_positions=1024, max_tokens=4096, max_tokens_valid=4096, max_update=0, max_valid_steps=None, maximize_best_checkpoint_metric=True, memory_efficient_bf16=False, memory_efficient_fp16=True, min_loss_scale=0.0001, model_parallel_size=1, no_epoch_checkpoints=False, no_last_checkpoints=False, no_progress_bar=False, no_reshard_after_forward=False, no_save=False, no_save_optimizer_state=False, no_seed_provided=False, not_fsdp_flatten_parameters=False, nprocs_per_node=1, num_batch_buckets=0, num_shards=1, num_workers=1, on_cpu_convert_precision=False, optimizer='adam', optimizer_overrides='{}', pad=1, patience=-1, pipeline_balance=None, pipeline_checkpoint='never', pipeline_chunks=0, pipeline_decoder_balance=None, pipeline_decoder_devices=None, pipeline_devices=None, pipeline_encoder_balance=None, pipeline_encoder_devices=None, pipeline_model_parallel=False, plasma_path='/tmp/plasma', profile=False, quantization_config_path=None, report_accuracy=False, required_batch_size_multiple=8, required_seq_len_multiple=1, reset_dataloader=False, reset_logging=False, reset_lr_scheduler=False, reset_meters=False, reset_optimizer=False, restore_file='checkpoint_last.pt', save_dir='./data/data_bin_bert/checkpoints/', save_interval=1, save_interval_updates=0, scoring='bleu', seed=1, sentence_avg=False, shard_id=0, share_all_embeddings=True, share_decoder_input_output_embed=True, skip_invalid_size_inputs_valid_test=False, skip_remainder_batch=False, slowmo_base_algorithm='localsgd', slowmo_momentum=None, source_lang=None, stop_min_lr=-1.0, stop_time_hours=0, store_ema=False, suppress_crashes=False, target_lang=None, task='translation', tensorboard_logdir='./data/data_bin_bert/logs', threshold_loss_scale=None, tokenizer=None, tpu=False, train_subset='train', truncate_source=False, unk=3, update_epoch_batch_itr=False, update_freq=[1], update_ordered_indices_seed=False, upsample_primary=-1, use_bmuf=False, use_old_adam=False, use_plasma_view=False, use_sharded_state=False, user_dir=None, valid_subset='valid', validate_after_updates=0, validate_interval=1, validate_interval_updates=0, wandb_project=None, warmup_init_lr=-1, warmup_updates=4000, weight_decay=0.0001, write_checkpoints_asynchronously=False, zero_sharding='none'), 'task': {'_name': 'translation', 'data': './data/data_bin_bert/', 'source_lang': None, 'target_lang': None, 'load_alignments': False, 'left_pad_source': True, 'left_pad_target': False, 'max_source_positions': 1024, 'max_target_positions': 1024, 'upsample_primary': -1, 'truncate_source': False, 'num_batch_buckets': 0, 'train_subset': 'train', 'dataset_impl': None, 'required_seq_len_multiple': 1, 'eval_bleu': True, 'eval_bleu_args': '{\"beam\": 5, \"max_len_a\": 1.2, \"max_len_b\": 10}', 'eval_bleu_detok': 'moses', 'eval_bleu_detok_args': '{}', 'eval_tokenized_bleu': False, 'eval_bleu_remove_bpe': None, 'eval_bleu_print_samples': True}, 'criterion': {'_name': 'label_smoothed_cross_entropy', 'label_smoothing': 0.2, 'report_accuracy': False, 'ignore_prefix_size': 0, 'sentence_avg': False}, 'optimizer': {'_name': 'adam', 'adam_betas': '(0.9, 0.98)', 'adam_eps': 1e-08, 'weight_decay': 0.0001, 'use_old_adam': False, 'fp16_adam_stats': False, 'tpu': False, 'lr': [0.0025]}, 'lr_scheduler': {'_name': 'inverse_sqrt', 'warmup_updates': 4000, 'warmup_init_lr': -1.0, 'lr': [0.0025]}, 'scoring': {'_name': 'bleu', 'pad': 1, 'eos': 2, 'unk': 3}, 'bpe': None, 'tokenizer': None, 'ema': {'_name': None, 'store_ema': False, 'ema_decay': 0.9999, 'ema_start_update': 0, 'ema_seed_model': None, 'ema_update_freq': 1, 'ema_fp32': False}}\n",
      "2023-06-02 00:11:00 | INFO | fairseq.tasks.translation | [en] dictionary: 31280 types\n",
      "2023-06-02 00:11:00 | INFO | fairseq.tasks.translation | [fa] dictionary: 31280 types\n",
      "2023-06-02 00:11:36 | INFO | fairseq.utils | found 31270/31280 types in embedding file\n",
      "####    FREEZE     ####\n",
      "2023-06-02 00:11:36 | INFO | fairseq_cli.train | LSTMModel(\n",
      "  (encoder): LSTMEncoder(\n",
      "    (dropout_in_module): FairseqDropout()\n",
      "    (dropout_out_module): FairseqDropout()\n",
      "    (embed_tokens): Embedding(31280, 512, padding_idx=1)\n",
      "    (lstm): LSTM(512, 512)\n",
      "  )\n",
      "  (decoder): LSTMDecoder(\n",
      "    (dropout_in_module): FairseqDropout()\n",
      "    (dropout_out_module): FairseqDropout()\n",
      "    (embed_tokens): Embedding(31280, 512, padding_idx=1)\n",
      "    (layers): ModuleList(\n",
      "      (0): LSTMCell(1024, 512)\n",
      "    )\n",
      "    (attention): AttentionLayer(\n",
      "      (input_proj): Linear(in_features=512, out_features=512, bias=False)\n",
      "      (output_proj): Linear(in_features=1024, out_features=512, bias=False)\n",
      "    )\n",
      "  )\n",
      ")\n",
      "2023-06-02 00:11:36 | INFO | fairseq_cli.train | task: TranslationTask\n",
      "2023-06-02 00:11:36 | INFO | fairseq_cli.train | model: LSTMModel\n",
      "2023-06-02 00:11:36 | INFO | fairseq_cli.train | criterion: LabelSmoothedCrossEntropyCriterion\n",
      "2023-06-02 00:11:36 | INFO | fairseq_cli.train | num. shared model params: 22,052,864 (num. trained: 0)\n",
      "2023-06-02 00:11:36 | INFO | fairseq_cli.train | num. expert model params: 0 (num. trained: 0)\n",
      "2023-06-02 00:11:36 | INFO | fairseq.data.data_utils | loaded 4,000 examples from: ./data/data_bin_bert/valid.en-fa.en\n",
      "2023-06-02 00:11:36 | INFO | fairseq.data.data_utils | loaded 4,000 examples from: ./data/data_bin_bert/valid.en-fa.fa\n",
      "2023-06-02 00:11:36 | INFO | fairseq.tasks.translation | ./data/data_bin_bert/ valid en-fa 4000 examples\n",
      "2023-06-02 00:11:41 | INFO | fairseq.trainer | detected shared parameter: encoder.embed_tokens.weight <- decoder.embed_tokens.weight\n",
      "2023-06-02 00:11:41 | INFO | fairseq.trainer | detected shared parameter: decoder.attention.input_proj.bias <- decoder.attention.output_proj.bias\n",
      "2023-06-02 00:11:41 | INFO | fairseq.utils | ***********************CUDA enviroments for all 1 workers***********************\n",
      "2023-06-02 00:11:41 | INFO | fairseq.utils | rank   0: capabilities =  7.5  ; total memory = 5.797 GB ; name = NVIDIA GeForce GTX 1660 Ti              \n",
      "2023-06-02 00:11:41 | INFO | fairseq.utils | ***********************CUDA enviroments for all 1 workers***********************\n",
      "2023-06-02 00:11:41 | INFO | fairseq_cli.train | training on 1 devices (GPUs/TPUs)\n",
      "2023-06-02 00:11:41 | INFO | fairseq_cli.train | max tokens per device = 4096 and max sentences per device = None\n",
      "2023-06-02 00:11:41 | INFO | fairseq.trainer | Preparing to load checkpoint ./data/data_bin_bert/checkpoints/checkpoint_last.pt\n",
      "2023-06-02 00:11:41 | INFO | fairseq.trainer | No existing checkpoint found ./data/data_bin_bert/checkpoints/checkpoint_last.pt\n",
      "2023-06-02 00:11:41 | INFO | fairseq.trainer | loading train data for epoch 1\n",
      "2023-06-02 00:11:41 | INFO | fairseq.data.data_utils | loaded 670,000 examples from: ./data/data_bin_bert/train.en-fa.en\n",
      "2023-06-02 00:11:41 | INFO | fairseq.data.data_utils | loaded 670,000 examples from: ./data/data_bin_bert/train.en-fa.fa\n",
      "2023-06-02 00:11:41 | INFO | fairseq.tasks.translation | ./data/data_bin_bert/ train en-fa 670000 examples\n",
      "Traceback (most recent call last):\n",
      "  File \"/home/amir/.pyenv/versions/3.8.16/bin/fairseq-train\", line 8, in <module>\n",
      "    sys.exit(cli_main())\n",
      "  File \"/home/amir/.pyenv/versions/3.8.16/lib/python3.8/site-packages/fairseq_cli/train.py\", line 557, in cli_main\n",
      "    distributed_utils.call_main(cfg, main)\n",
      "  File \"/home/amir/.pyenv/versions/3.8.16/lib/python3.8/site-packages/fairseq/distributed/utils.py\", line 369, in call_main\n",
      "    main(cfg, **kwargs)\n",
      "  File \"/home/amir/.pyenv/versions/3.8.16/lib/python3.8/site-packages/fairseq_cli/train.py\", line 164, in main\n",
      "    extra_state, epoch_itr = checkpoint_utils.load_checkpoint(\n",
      "  File \"/home/amir/.pyenv/versions/3.8.16/lib/python3.8/site-packages/fairseq/checkpoint_utils.py\", line 276, in load_checkpoint\n",
      "    trainer.lr_step(epoch_itr.epoch)\n",
      "  File \"/home/amir/.pyenv/versions/3.8.16/lib/python3.8/site-packages/fairseq/trainer.py\", line 1172, in lr_step\n",
      "    self.lr_scheduler.step(epoch, val_loss)\n",
      "  File \"/home/amir/.pyenv/versions/3.8.16/lib/python3.8/site-packages/fairseq/trainer.py\", line 287, in lr_scheduler\n",
      "    self._build_optimizer()  # this will initialize self._lr_scheduler\n",
      "  File \"/home/amir/.pyenv/versions/3.8.16/lib/python3.8/site-packages/fairseq/trainer.py\", line 318, in _build_optimizer\n",
      "    self._optimizer = optim.MemoryEfficientFP16Optimizer.build_optimizer(\n",
      "  File \"/home/amir/.pyenv/versions/3.8.16/lib/python3.8/site-packages/fairseq/optim/fp16_optimizer.py\", line 527, in build_optimizer\n",
      "    fp16_optimizer = optim.build_optimizer(cfg.optimizer, params)\n",
      "  File \"/home/amir/.pyenv/versions/3.8.16/lib/python3.8/site-packages/fairseq/optim/__init__.py\", line 41, in build_optimizer\n",
      "    return _build_optimizer(cfg, params, *extra_args, **extra_kwargs)\n",
      "  File \"/home/amir/.pyenv/versions/3.8.16/lib/python3.8/site-packages/fairseq/registry.py\", line 61, in build_x\n",
      "    return builder(cfg, *extra_args, **extra_kwargs)\n",
      "  File \"/home/amir/.pyenv/versions/3.8.16/lib/python3.8/site-packages/fairseq/optim/adam.py\", line 77, in __init__\n",
      "    self._optimizer = Adam(params, **self.optimizer_config)\n",
      "  File \"/home/amir/.pyenv/versions/3.8.16/lib/python3.8/site-packages/fairseq/optim/adam.py\", line 149, in __init__\n",
      "    super(Adam, self).__init__(params, defaults)\n",
      "  File \"/home/amir/.pyenv/versions/3.8.16/lib/python3.8/site-packages/torch/optim/optimizer.py\", line 49, in __init__\n",
      "    raise ValueError(\"optimizer got an empty parameter list\")\n",
      "ValueError: optimizer got an empty parameter list\n"
     ]
    }
   ],
   "source": [
    "!fairseq-train \\\n",
    "    \"./data/data_bin_bert/\" \\\n",
    "    --arch lstm --share-decoder-input-output-embed \\\n",
    "    --optimizer adam --adam-betas '(0.9, 0.98)' --clip-norm 0.0 \\\n",
    "    --lr 0.0025 --lr-scheduler inverse_sqrt --warmup-updates 4000 \\\n",
    "    --dropout 0.25 --weight-decay 0.0001 \\\n",
    "    --criterion label_smoothed_cross_entropy --label-smoothing 0.2 \\\n",
    "    --max-tokens 4096 \\\n",
    "    --eval-bleu \\\n",
    "    --eval-bleu-args '{\"beam\": 5, \"max_len_a\": 1.2, \"max_len_b\": 10}' \\\n",
    "    --eval-bleu-detok moses \\\n",
    "    --eval-bleu-print-samples \\\n",
    "    --best-checkpoint-metric bleu --maximize-best-checkpoint-metric \\\n",
    "    --fp16 --memory-efficient-fp16 \\\n",
    "    --max-epoch 5 \\\n",
    "    --encoder-embed-path ./data/bert_weights.txt \\\n",
    "    --decoder-embed-path ./data/bert_weights.txt \\\n",
    "    --share-all-embeddings \\\n",
    "    --save-dir ./data/data_bin_bert/checkpoints/ \\\n",
    "    --tensorboard-logdir ./data/data_bin_bert/logs"
   ]
  },
  {
   "cell_type": "code",
   "execution_count": 3,
   "metadata": {},
   "outputs": [
    {
     "name": "stdout",
     "output_type": "stream",
     "text": [
      "2023-06-02 00:15:30 | INFO | fairseq_cli.train | {'_name': None, 'common': {'_name': None, 'no_progress_bar': False, 'log_interval': 100, 'log_format': None, 'log_file': None, 'aim_repo': None, 'aim_run_hash': None, 'tensorboard_logdir': './data/data_bin_bert/logs', 'wandb_project': None, 'azureml_logging': False, 'seed': 1, 'cpu': False, 'tpu': False, 'bf16': False, 'memory_efficient_bf16': False, 'fp16': True, 'memory_efficient_fp16': True, 'fp16_no_flatten_grads': False, 'fp16_init_scale': 128, 'fp16_scale_window': None, 'fp16_scale_tolerance': 0.0, 'on_cpu_convert_precision': False, 'min_loss_scale': 0.0001, 'threshold_loss_scale': None, 'amp': False, 'amp_batch_retries': 2, 'amp_init_scale': 128, 'amp_scale_window': None, 'user_dir': None, 'empty_cache_freq': 0, 'all_gather_list_size': 16384, 'model_parallel_size': 1, 'quantization_config_path': None, 'profile': False, 'reset_logging': False, 'suppress_crashes': False, 'use_plasma_view': False, 'plasma_path': '/tmp/plasma'}, 'common_eval': {'_name': None, 'path': None, 'post_process': None, 'quiet': False, 'model_overrides': '{}', 'results_path': None}, 'distributed_training': {'_name': None, 'distributed_world_size': 1, 'distributed_num_procs': 1, 'distributed_rank': 0, 'distributed_backend': 'nccl', 'distributed_init_method': None, 'distributed_port': -1, 'device_id': 0, 'distributed_no_spawn': False, 'ddp_backend': 'pytorch_ddp', 'ddp_comm_hook': 'none', 'bucket_cap_mb': 25, 'fix_batches_to_gpus': False, 'find_unused_parameters': False, 'gradient_as_bucket_view': False, 'fast_stat_sync': False, 'heartbeat_timeout': -1, 'broadcast_buffers': False, 'slowmo_momentum': None, 'slowmo_base_algorithm': 'localsgd', 'localsgd_frequency': 3, 'nprocs_per_node': 1, 'pipeline_model_parallel': False, 'pipeline_balance': None, 'pipeline_devices': None, 'pipeline_chunks': 0, 'pipeline_encoder_balance': None, 'pipeline_encoder_devices': None, 'pipeline_decoder_balance': None, 'pipeline_decoder_devices': None, 'pipeline_checkpoint': 'never', 'zero_sharding': 'none', 'fp16': True, 'memory_efficient_fp16': True, 'tpu': False, 'no_reshard_after_forward': False, 'fp32_reduce_scatter': False, 'cpu_offload': False, 'use_sharded_state': False, 'not_fsdp_flatten_parameters': False}, 'dataset': {'_name': None, 'num_workers': 1, 'skip_invalid_size_inputs_valid_test': False, 'max_tokens': 4096, 'batch_size': None, 'required_batch_size_multiple': 8, 'required_seq_len_multiple': 1, 'dataset_impl': None, 'data_buffer_size': 10, 'train_subset': 'train', 'valid_subset': 'valid', 'combine_valid_subsets': None, 'ignore_unused_valid_subsets': False, 'validate_interval': 1, 'validate_interval_updates': 0, 'validate_after_updates': 0, 'fixed_validation_seed': None, 'disable_validation': False, 'max_tokens_valid': 4096, 'batch_size_valid': None, 'max_valid_steps': None, 'curriculum': 0, 'gen_subset': 'test', 'num_shards': 1, 'shard_id': 0, 'grouped_shuffling': False, 'update_epoch_batch_itr': False, 'update_ordered_indices_seed': False}, 'optimization': {'_name': None, 'max_epoch': 5, 'max_update': 0, 'stop_time_hours': 0.0, 'clip_norm': 0.0, 'sentence_avg': False, 'update_freq': [1], 'lr': [0.0025], 'stop_min_lr': -1.0, 'use_bmuf': False, 'skip_remainder_batch': False}, 'checkpoint': {'_name': None, 'save_dir': './data/data_bin_bert/checkpoints/', 'restore_file': 'checkpoint_last.pt', 'continue_once': None, 'finetune_from_model': None, 'reset_dataloader': False, 'reset_lr_scheduler': False, 'reset_meters': False, 'reset_optimizer': False, 'optimizer_overrides': '{}', 'save_interval': 1, 'save_interval_updates': 0, 'keep_interval_updates': -1, 'keep_interval_updates_pattern': -1, 'keep_last_epochs': -1, 'keep_best_checkpoints': -1, 'no_save': False, 'no_epoch_checkpoints': False, 'no_last_checkpoints': False, 'no_save_optimizer_state': False, 'best_checkpoint_metric': 'bleu', 'maximize_best_checkpoint_metric': True, 'patience': -1, 'checkpoint_suffix': '', 'checkpoint_shard_count': 1, 'load_checkpoint_on_all_dp_ranks': False, 'write_checkpoints_asynchronously': False, 'model_parallel_size': 1}, 'bmuf': {'_name': None, 'block_lr': 1.0, 'block_momentum': 0.875, 'global_sync_iter': 50, 'warmup_iterations': 500, 'use_nbm': False, 'average_sync': False, 'distributed_world_size': 1}, 'generation': {'_name': None, 'beam': 5, 'nbest': 1, 'max_len_a': 0.0, 'max_len_b': 200, 'min_len': 1, 'match_source_len': False, 'unnormalized': False, 'no_early_stop': False, 'no_beamable_mm': False, 'lenpen': 1.0, 'unkpen': 0.0, 'replace_unk': None, 'sacrebleu': False, 'score_reference': False, 'prefix_size': 0, 'no_repeat_ngram_size': 0, 'sampling': False, 'sampling_topk': -1, 'sampling_topp': -1.0, 'constraints': None, 'temperature': 1.0, 'diverse_beam_groups': -1, 'diverse_beam_strength': 0.5, 'diversity_rate': -1.0, 'print_alignment': None, 'print_step': False, 'lm_path': None, 'lm_weight': 0.0, 'iter_decode_eos_penalty': 0.0, 'iter_decode_max_iter': 10, 'iter_decode_force_max_iter': False, 'iter_decode_with_beam': 1, 'iter_decode_with_external_reranker': False, 'retain_iter_history': False, 'retain_dropout': False, 'retain_dropout_modules': None, 'decoding_format': None, 'no_seed_provided': False, 'eos_token': None}, 'eval_lm': {'_name': None, 'output_word_probs': False, 'output_word_stats': False, 'context_window': 0, 'softmax_batch': 9223372036854775807}, 'interactive': {'_name': None, 'buffer_size': 0, 'input': '-'}, 'model': Namespace(_name='lstm', adam_betas='(0.9, 0.98)', adam_eps=1e-08, adaptive_softmax_cutoff='10000,50000,200000', aim_repo=None, aim_run_hash=None, all_gather_list_size=16384, amp=False, amp_batch_retries=2, amp_init_scale=128, amp_scale_window=None, arch='lstm', azureml_logging=False, batch_size=None, batch_size_valid=None, best_checkpoint_metric='bleu', bf16=False, bpe=None, broadcast_buffers=False, bucket_cap_mb=25, checkpoint_shard_count=1, checkpoint_suffix='', clip_norm=0.0, combine_valid_subsets=None, continue_once=None, cpu=False, cpu_offload=False, criterion='label_smoothed_cross_entropy', curriculum=0, data='./data/data_bin_bert/', data_buffer_size=10, dataset_impl=None, ddp_backend='pytorch_ddp', ddp_comm_hook='none', decoder_attention='1', decoder_dropout_in=0.25, decoder_dropout_out=0.25, decoder_embed_dim=512, decoder_embed_path=None, decoder_freeze_embed=False, decoder_hidden_size=512, decoder_layers=1, decoder_out_embed_dim=512, device_id=0, disable_validation=False, distributed_backend='nccl', distributed_init_method=None, distributed_no_spawn=False, distributed_num_procs=1, distributed_port=-1, distributed_rank=0, distributed_world_size=1, dropout=0.25, ema_decay=0.9999, ema_fp32=False, ema_seed_model=None, ema_start_update=0, ema_update_freq=1, empty_cache_freq=0, encoder_bidirectional=False, encoder_dropout_in=0.25, encoder_dropout_out=0.25, encoder_embed_dim=512, encoder_embed_path=None, encoder_freeze_embed=False, encoder_hidden_size=512, encoder_layers=1, eos=2, eval_bleu=True, eval_bleu_args='{\"beam\": 5, \"max_len_a\": 1.2, \"max_len_b\": 10}', eval_bleu_detok='moses', eval_bleu_detok_args='{}', eval_bleu_print_samples=True, eval_bleu_remove_bpe=None, eval_tokenized_bleu=False, fast_stat_sync=False, find_unused_parameters=False, finetune_from_model=None, fix_batches_to_gpus=False, fixed_validation_seed=None, fp16=True, fp16_adam_stats=False, fp16_init_scale=128, fp16_no_flatten_grads=False, fp16_scale_tolerance=0.0, fp16_scale_window=None, fp32_reduce_scatter=False, freeze=True, freeze_layers=False, gen_subset='test', gradient_as_bucket_view=False, grouped_shuffling=False, heartbeat_timeout=-1, ignore_prefix_size=0, ignore_unused_valid_subsets=False, keep_best_checkpoints=-1, keep_interval_updates=-1, keep_interval_updates_pattern=-1, keep_last_epochs=-1, label_smoothing=0.2, left_pad_source=True, left_pad_target=False, load_alignments=False, load_checkpoint_on_all_dp_ranks=False, localsgd_frequency=3, log_file=None, log_format=None, log_interval=100, lr=[0.0025], lr_scheduler='inverse_sqrt', max_epoch=5, max_source_positions=1024, max_target_positions=1024, max_tokens=4096, max_tokens_valid=4096, max_update=0, max_valid_steps=None, maximize_best_checkpoint_metric=True, memory_efficient_bf16=False, memory_efficient_fp16=True, min_loss_scale=0.0001, model_parallel_size=1, no_epoch_checkpoints=False, no_last_checkpoints=False, no_progress_bar=False, no_reshard_after_forward=False, no_save=False, no_save_optimizer_state=False, no_seed_provided=False, not_fsdp_flatten_parameters=False, nprocs_per_node=1, num_batch_buckets=0, num_shards=1, num_workers=1, on_cpu_convert_precision=False, optimizer='adam', optimizer_overrides='{}', pad=1, patience=-1, pipeline_balance=None, pipeline_checkpoint='never', pipeline_chunks=0, pipeline_decoder_balance=None, pipeline_decoder_devices=None, pipeline_devices=None, pipeline_encoder_balance=None, pipeline_encoder_devices=None, pipeline_model_parallel=False, plasma_path='/tmp/plasma', profile=False, quantization_config_path=None, report_accuracy=False, required_batch_size_multiple=8, required_seq_len_multiple=1, reset_dataloader=False, reset_logging=False, reset_lr_scheduler=False, reset_meters=False, reset_optimizer=False, restore_file='checkpoint_last.pt', save_dir='./data/data_bin_bert/checkpoints/', save_interval=1, save_interval_updates=0, scoring='bleu', seed=1, sentence_avg=False, shard_id=0, share_all_embeddings=False, share_decoder_input_output_embed=True, skip_invalid_size_inputs_valid_test=False, skip_remainder_batch=False, slowmo_base_algorithm='localsgd', slowmo_momentum=None, source_lang=None, stop_min_lr=-1.0, stop_time_hours=0, store_ema=False, suppress_crashes=False, target_lang=None, task='translation', tensorboard_logdir='./data/data_bin_bert/logs', threshold_loss_scale=None, tokenizer=None, tpu=False, train_subset='train', truncate_source=False, unk=3, update_epoch_batch_itr=False, update_freq=[1], update_ordered_indices_seed=False, upsample_primary=-1, use_bmuf=False, use_old_adam=False, use_plasma_view=False, use_sharded_state=False, user_dir=None, valid_subset='valid', validate_after_updates=0, validate_interval=1, validate_interval_updates=0, wandb_project=None, warmup_init_lr=-1, warmup_updates=4000, weight_decay=0.0001, write_checkpoints_asynchronously=False, zero_sharding='none'), 'task': {'_name': 'translation', 'data': './data/data_bin_bert/', 'source_lang': None, 'target_lang': None, 'load_alignments': False, 'left_pad_source': True, 'left_pad_target': False, 'max_source_positions': 1024, 'max_target_positions': 1024, 'upsample_primary': -1, 'truncate_source': False, 'num_batch_buckets': 0, 'train_subset': 'train', 'dataset_impl': None, 'required_seq_len_multiple': 1, 'eval_bleu': True, 'eval_bleu_args': '{\"beam\": 5, \"max_len_a\": 1.2, \"max_len_b\": 10}', 'eval_bleu_detok': 'moses', 'eval_bleu_detok_args': '{}', 'eval_tokenized_bleu': False, 'eval_bleu_remove_bpe': None, 'eval_bleu_print_samples': True}, 'criterion': {'_name': 'label_smoothed_cross_entropy', 'label_smoothing': 0.2, 'report_accuracy': False, 'ignore_prefix_size': 0, 'sentence_avg': False}, 'optimizer': {'_name': 'adam', 'adam_betas': '(0.9, 0.98)', 'adam_eps': 1e-08, 'weight_decay': 0.0001, 'use_old_adam': False, 'fp16_adam_stats': False, 'tpu': False, 'lr': [0.0025]}, 'lr_scheduler': {'_name': 'inverse_sqrt', 'warmup_updates': 4000, 'warmup_init_lr': -1.0, 'lr': [0.0025]}, 'scoring': {'_name': 'bleu', 'pad': 1, 'eos': 2, 'unk': 3}, 'bpe': None, 'tokenizer': None, 'ema': {'_name': None, 'store_ema': False, 'ema_decay': 0.9999, 'ema_start_update': 0, 'ema_seed_model': None, 'ema_update_freq': 1, 'ema_fp32': False}}\n",
      "2023-06-02 00:15:31 | INFO | fairseq.tasks.translation | [en] dictionary: 31280 types\n",
      "2023-06-02 00:15:31 | INFO | fairseq.tasks.translation | [fa] dictionary: 31280 types\n",
      "####    FREEZE     ####\n",
      "2023-06-02 00:15:31 | INFO | fairseq_cli.train | LSTMModel(\n",
      "  (encoder): LSTMEncoder(\n",
      "    (dropout_in_module): FairseqDropout()\n",
      "    (dropout_out_module): FairseqDropout()\n",
      "    (embed_tokens): Embedding(31280, 512, padding_idx=1)\n",
      "    (lstm): LSTM(512, 512)\n",
      "  )\n",
      "  (decoder): LSTMDecoder(\n",
      "    (dropout_in_module): FairseqDropout()\n",
      "    (dropout_out_module): FairseqDropout()\n",
      "    (embed_tokens): Embedding(31280, 512, padding_idx=1)\n",
      "    (layers): ModuleList(\n",
      "      (0): LSTMCell(1024, 512)\n",
      "    )\n",
      "    (attention): AttentionLayer(\n",
      "      (input_proj): Linear(in_features=512, out_features=512, bias=False)\n",
      "      (output_proj): Linear(in_features=1024, out_features=512, bias=False)\n",
      "    )\n",
      "  )\n",
      ")\n",
      "2023-06-02 00:15:31 | INFO | fairseq_cli.train | task: TranslationTask\n",
      "2023-06-02 00:15:31 | INFO | fairseq_cli.train | model: LSTMModel\n",
      "2023-06-02 00:15:31 | INFO | fairseq_cli.train | criterion: LabelSmoothedCrossEntropyCriterion\n",
      "2023-06-02 00:15:31 | INFO | fairseq_cli.train | num. shared model params: 38,068,224 (num. trained: 0)\n",
      "2023-06-02 00:15:31 | INFO | fairseq_cli.train | num. expert model params: 0 (num. trained: 0)\n",
      "2023-06-02 00:15:31 | INFO | fairseq.data.data_utils | loaded 4,000 examples from: ./data/data_bin_bert/valid.en-fa.en\n",
      "2023-06-02 00:15:31 | INFO | fairseq.data.data_utils | loaded 4,000 examples from: ./data/data_bin_bert/valid.en-fa.fa\n",
      "2023-06-02 00:15:31 | INFO | fairseq.tasks.translation | ./data/data_bin_bert/ valid en-fa 4000 examples\n",
      "2023-06-02 00:15:38 | INFO | fairseq.trainer | detected shared parameter: decoder.attention.input_proj.bias <- decoder.attention.output_proj.bias\n",
      "2023-06-02 00:15:38 | INFO | fairseq.utils | ***********************CUDA enviroments for all 1 workers***********************\n",
      "2023-06-02 00:15:38 | INFO | fairseq.utils | rank   0: capabilities =  7.5  ; total memory = 5.797 GB ; name = NVIDIA GeForce GTX 1660 Ti              \n",
      "2023-06-02 00:15:38 | INFO | fairseq.utils | ***********************CUDA enviroments for all 1 workers***********************\n",
      "2023-06-02 00:15:38 | INFO | fairseq_cli.train | training on 1 devices (GPUs/TPUs)\n",
      "2023-06-02 00:15:38 | INFO | fairseq_cli.train | max tokens per device = 4096 and max sentences per device = None\n",
      "2023-06-02 00:15:38 | INFO | fairseq.trainer | Preparing to load checkpoint ./data/data_bin_bert/checkpoints/checkpoint_last.pt\n",
      "2023-06-02 00:15:38 | INFO | fairseq.trainer | No existing checkpoint found ./data/data_bin_bert/checkpoints/checkpoint_last.pt\n",
      "2023-06-02 00:15:38 | INFO | fairseq.trainer | loading train data for epoch 1\n",
      "2023-06-02 00:15:38 | INFO | fairseq.data.data_utils | loaded 670,000 examples from: ./data/data_bin_bert/train.en-fa.en\n",
      "2023-06-02 00:15:38 | INFO | fairseq.data.data_utils | loaded 670,000 examples from: ./data/data_bin_bert/train.en-fa.fa\n",
      "2023-06-02 00:15:38 | INFO | fairseq.tasks.translation | ./data/data_bin_bert/ train en-fa 670000 examples\n",
      "Traceback (most recent call last):\n",
      "  File \"/home/amir/.pyenv/versions/3.8.16/bin/fairseq-train\", line 8, in <module>\n",
      "    sys.exit(cli_main())\n",
      "  File \"/home/amir/.pyenv/versions/3.8.16/lib/python3.8/site-packages/fairseq_cli/train.py\", line 557, in cli_main\n",
      "    distributed_utils.call_main(cfg, main)\n",
      "  File \"/home/amir/.pyenv/versions/3.8.16/lib/python3.8/site-packages/fairseq/distributed/utils.py\", line 369, in call_main\n",
      "    main(cfg, **kwargs)\n",
      "  File \"/home/amir/.pyenv/versions/3.8.16/lib/python3.8/site-packages/fairseq_cli/train.py\", line 164, in main\n",
      "    extra_state, epoch_itr = checkpoint_utils.load_checkpoint(\n",
      "  File \"/home/amir/.pyenv/versions/3.8.16/lib/python3.8/site-packages/fairseq/checkpoint_utils.py\", line 276, in load_checkpoint\n",
      "    trainer.lr_step(epoch_itr.epoch)\n",
      "  File \"/home/amir/.pyenv/versions/3.8.16/lib/python3.8/site-packages/fairseq/trainer.py\", line 1172, in lr_step\n",
      "    self.lr_scheduler.step(epoch, val_loss)\n",
      "  File \"/home/amir/.pyenv/versions/3.8.16/lib/python3.8/site-packages/fairseq/trainer.py\", line 287, in lr_scheduler\n",
      "    self._build_optimizer()  # this will initialize self._lr_scheduler\n",
      "  File \"/home/amir/.pyenv/versions/3.8.16/lib/python3.8/site-packages/fairseq/trainer.py\", line 318, in _build_optimizer\n",
      "    self._optimizer = optim.MemoryEfficientFP16Optimizer.build_optimizer(\n",
      "  File \"/home/amir/.pyenv/versions/3.8.16/lib/python3.8/site-packages/fairseq/optim/fp16_optimizer.py\", line 527, in build_optimizer\n",
      "    fp16_optimizer = optim.build_optimizer(cfg.optimizer, params)\n",
      "  File \"/home/amir/.pyenv/versions/3.8.16/lib/python3.8/site-packages/fairseq/optim/__init__.py\", line 41, in build_optimizer\n",
      "    return _build_optimizer(cfg, params, *extra_args, **extra_kwargs)\n",
      "  File \"/home/amir/.pyenv/versions/3.8.16/lib/python3.8/site-packages/fairseq/registry.py\", line 61, in build_x\n",
      "    return builder(cfg, *extra_args, **extra_kwargs)\n",
      "  File \"/home/amir/.pyenv/versions/3.8.16/lib/python3.8/site-packages/fairseq/optim/adam.py\", line 77, in __init__\n",
      "    self._optimizer = Adam(params, **self.optimizer_config)\n",
      "  File \"/home/amir/.pyenv/versions/3.8.16/lib/python3.8/site-packages/fairseq/optim/adam.py\", line 149, in __init__\n",
      "    super(Adam, self).__init__(params, defaults)\n",
      "  File \"/home/amir/.pyenv/versions/3.8.16/lib/python3.8/site-packages/torch/optim/optimizer.py\", line 49, in __init__\n",
      "    raise ValueError(\"optimizer got an empty parameter list\")\n",
      "ValueError: optimizer got an empty parameter list\n"
     ]
    }
   ],
   "source": [
    "!fairseq-train \\\n",
    "    \"./data/data_bin_bert/\" \\\n",
    "    --arch lstm --share-decoder-input-output-embed \\\n",
    "    --optimizer adam --adam-betas '(0.9, 0.98)' --clip-norm 0.0 \\\n",
    "    --lr 0.0025 --lr-scheduler inverse_sqrt --warmup-updates 4000 \\\n",
    "    --dropout 0.25 --weight-decay 0.0001 \\\n",
    "    --criterion label_smoothed_cross_entropy --label-smoothing 0.2 \\\n",
    "    --max-tokens 4096 \\\n",
    "    --eval-bleu \\\n",
    "    --eval-bleu-args '{\"beam\": 5, \"max_len_a\": 1.2, \"max_len_b\": 10}' \\\n",
    "    --eval-bleu-detok moses \\\n",
    "    --eval-bleu-print-samples \\\n",
    "    --best-checkpoint-metric bleu --maximize-best-checkpoint-metric \\\n",
    "    --fp16 --memory-efficient-fp16 \\\n",
    "    --max-epoch 5 \\\n",
    "    --save-dir ./data/data_bin_bert/checkpoints/ \\\n",
    "    --tensorboard-logdir ./data/data_bin_bert/logs"
   ]
  },
  {
   "cell_type": "code",
   "execution_count": null,
   "metadata": {},
   "outputs": [],
   "source": []
  }
 ],
 "metadata": {
  "kernelspec": {
   "display_name": "uni",
   "language": "python",
   "name": "python3"
  },
  "language_info": {
   "codemirror_mode": {
    "name": "ipython",
    "version": 3
   },
   "file_extension": ".py",
   "mimetype": "text/x-python",
   "name": "python",
   "nbconvert_exporter": "python",
   "pygments_lexer": "ipython3",
   "version": "3.8.16"
  },
  "orig_nbformat": 4
 },
 "nbformat": 4,
 "nbformat_minor": 2
}
